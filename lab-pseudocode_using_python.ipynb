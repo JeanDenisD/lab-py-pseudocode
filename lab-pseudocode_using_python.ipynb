{
 "cells": [
  {
   "cell_type": "markdown",
   "metadata": {},
   "source": [
    "# LAB | Pseudocode Using Python\n",
    "\n",
    "## Overview\n",
    "\n",
    "This exercise will help you practice writing pseudocode and translating it into Python code. Pseudocode is a way to describe algorithms in a human-readable format, which can then be implemented in programming languages.\n",
    "\n"
   ]
  },
  {
   "cell_type": "markdown",
   "metadata": {},
   "source": [
    "### Exercise 1: Multiply Two Numbers\n",
    "\n",
    "Write a pseudocode to read two numbers and multiply them together. Then, write the equivalent Python code."
   ]
  },
  {
   "cell_type": "markdown",
   "metadata": {},
   "source": [
    "Add your pseudocode here\n",
    "\n",
    "START\n",
    "  DISPLAY \"Enter first number:\"\n",
    "  READ a\n",
    "  DISPLAY \"Enter second number:\"\n",
    "  READ b\n",
    "  SET result TO a * b\n",
    "  DISPLAY \"The result is:\", result\n",
    "END\n"
   ]
  },
  {
   "cell_type": "code",
   "execution_count": 3,
   "metadata": {},
   "outputs": [
    {
     "name": "stdout",
     "output_type": "stream",
     "text": [
      "The result is: 12.0\n"
     ]
    }
   ],
   "source": [
    "# Add your code solution here\n",
    "# Prompt the user to enter the first number\n",
    "a = float(input(\"Enter first number: \"))\n",
    "\n",
    "# Prompt the user to enter the second number\n",
    "b = float(input(\"Enter second number: \"))\n",
    "\n",
    "# Multiply the numbers\n",
    "result = a * b\n",
    "\n",
    "# Display the result\n",
    "print(\"The result is:\", result)\n"
   ]
  },
  {
   "cell_type": "markdown",
   "metadata": {},
   "source": [
    "### Exercise 2: Check Even or Odd\n",
    "\n",
    "Write pseudocode that checks if a number is even or odd and prints the result. Then, write the equivalent Python code."
   ]
  },
  {
   "cell_type": "markdown",
   "metadata": {},
   "source": [
    "# My pseudocode\n",
    "\n",
    "START\n",
    "    Display \"Enter number\"\n",
    "    READ a\n",
    "    CHECK IF a IS EVEN\n",
    "        print \"even\" IF TRUE\n",
    "    ELSE:\n",
    "        print \"odd\" IF FALSE"
   ]
  },
  {
   "cell_type": "markdown",
   "metadata": {},
   "source": [
    "<!-- Add your pseudocode here -->"
   ]
  },
  {
   "cell_type": "code",
   "execution_count": 7,
   "metadata": {},
   "outputs": [
    {
     "name": "stdout",
     "output_type": "stream",
     "text": [
      "6 is even\n"
     ]
    }
   ],
   "source": [
    "# Add your code solution here\n",
    "def even_or_odd():\n",
    "    #Take input and assign to variable\n",
    "    a = int(input(\"Enter number\"))\n",
    "    if a % 2 == 0: #Check if a is even\n",
    "        print(f\"{a} is even\") #Return if it's TRUE\n",
    "    else:\n",
    "        print(f\"{a} is odd\") # Return if it's FALSE\n",
    "\n",
    "even_or_odd()"
   ]
  },
  {
   "cell_type": "markdown",
   "metadata": {},
   "source": [
    "### Exercise 3: Sum of First N Natural Numbers\n",
    "\n",
    "Write pseudocode to calculate the sum of the first N natural numbers. Then, write the equivalent Python code."
   ]
  },
  {
   "cell_type": "markdown",
   "metadata": {},
   "source": [
    "# My pseudocode\n",
    "Create a function that take a natural number (a integer) and sum all exiisting natural number till the input natural number\n",
    "\n",
    "START\n",
    "    DISPLAY \"Enter integer\"\n",
    "    SAVE THE INPUT AS a\n",
    "    CREATE A VARIABLE TO STORE THE RESULT = 0\n",
    "    CREATE A LOOP WITH RANGE FROM 1 TO a\n",
    "        LOOP THROUGH THE RANGE ADD EACH NUMBER OF THE RANGE TO RESULT\n",
    "    RETURN RESULT\n"
   ]
  },
  {
   "cell_type": "code",
   "execution_count": null,
   "metadata": {},
   "outputs": [
    {
     "data": {
      "text/plain": [
       "21"
      ]
     },
     "execution_count": 9,
     "metadata": {},
     "output_type": "execute_result"
    }
   ],
   "source": [
    "# Add your code solution here\n",
    "def sum_n_natural():\n",
    "    a = int(input(\"Enter integer number\"))\n",
    "    result = 0\n",
    "    for i in range(1, a + 1):\n",
    "        result += i\n",
    "    return result\n",
    "\n",
    "sum_n_natural()"
   ]
  },
  {
   "cell_type": "markdown",
   "metadata": {},
   "source": [
    "### Exercise 4: Find Maximum of Three Numbers\n",
    "\n",
    "Write pseudocode that finds the maximum of three numbers entered by the user. Then, write the equivalent Python code."
   ]
  },
  {
   "cell_type": "markdown",
   "metadata": {},
   "source": [
    "# My pseudocode\n",
    "\n",
    "START\n",
    "    DISPLAY \"Enter first integer\"\n",
    "    SAVE THE INPUT AS a\n",
    "    DISPLAY \"Enter second integer\"\n",
    "    SAVE THE INPUT AS B\n",
    "    DISPLAY \"Enter third integer\"\n",
    "    SAVE THE INPUT AS C\n",
    "    CREATE A LIST lst WITH a, b and c\n",
    "    DISPLAY THE MAX NUMBER WITH METHOD max() ON THE LIST"
   ]
  },
  {
   "cell_type": "code",
   "execution_count": null,
   "metadata": {},
   "outputs": [
    {
     "data": {
      "text/plain": [
       "24"
      ]
     },
     "execution_count": 11,
     "metadata": {},
     "output_type": "execute_result"
    }
   ],
   "source": [
    "# Add your code solution here\n",
    "def max_of_3():\n",
    "    a = int(input(\"Enter first integer\"))\n",
    "    b = int(input(\"Enter second integer\"))\n",
    "    c = int(input(\"Enter third integer\"))\n",
    "    lst = [a, b, c]\n",
    "    print(f\"The maximum number is {max(lst)}\")\n",
    "\n",
    "max_of_3()"
   ]
  },
  {
   "cell_type": "markdown",
   "metadata": {},
   "source": [
    "### Exercise 5: Count Vowels in a String\n",
    "\n",
    "Write pseudocode to count the number of vowels in a given string and print the count. Then, write the equivalent Python code."
   ]
  },
  {
   "cell_type": "markdown",
   "metadata": {},
   "source": [
    "# My pseudocode\n",
    "START\n",
    "    DISPLAY \"Enter string\"\n",
    "    SET THE INPUT AS A STRING NAMED sentence\n",
    "    SET vowel_list TO [\"a\", \"e\", \"i\", \"o\", \"u\"]\n",
    "    SET empty list vowels_found = []\n",
    "    LOOP TROUGH THE LIST sentence:\n",
    "        APPEND TO THE vowel LIST IF CHARACTER IS A VOWEL\n",
    "    DISPLAY THE SUM VOWEL IN THE VOWEL LIST BY CHECKING THE LENGHT OF VOWEL LIST"
   ]
  },
  {
   "cell_type": "code",
   "execution_count": 19,
   "metadata": {},
   "outputs": [
    {
     "name": "stdout",
     "output_type": "stream",
     "text": [
      "The sum of vowel in the sentence is 38\n"
     ]
    }
   ],
   "source": [
    "# Add your code solution here\n",
    "def count_vowel():\n",
    "    sentence = input(\"Enter string\")\n",
    "    vowels_list = [\"a\",\"e\",\"i\",\"o\",\"u\"]\n",
    "    vowels_found = []\n",
    "\n",
    "    for i in sentence:\n",
    "        if i in vowels_list:\n",
    "            vowels_found.append(i)\n",
    "\n",
    "    print(f\"The sum of vowel in the sentence is {len(vowels_found)}\")\n",
    "\n",
    "count_vowel()"
   ]
  },
  {
   "cell_type": "markdown",
   "metadata": {},
   "source": [
    "## Bonus Exercises\n",
    "\n",
    "### Bonus Exercise 6: Reverse a String\n",
    "\n",
    "Write pseudocode to reverse a given string and print it out."
   ]
  },
  {
   "cell_type": "markdown",
   "metadata": {},
   "source": [
    "<!-- Add your pseudocode here -->"
   ]
  },
  {
   "cell_type": "code",
   "execution_count": null,
   "metadata": {},
   "outputs": [],
   "source": [
    "# Add your code solution here"
   ]
  },
  {
   "cell_type": "markdown",
   "metadata": {},
   "source": [
    "### Bonus Exercise 7: Print Multiplication Table of a Number\n",
    "\n",
    "Write pseudocode to print the multiplication table of a given number up to 10."
   ]
  },
  {
   "cell_type": "markdown",
   "metadata": {},
   "source": [
    "<!-- Add your pseudocode here -->"
   ]
  },
  {
   "cell_type": "code",
   "execution_count": null,
   "metadata": {},
   "outputs": [],
   "source": [
    "# Add your code solution here"
   ]
  },
  {
   "cell_type": "markdown",
   "metadata": {},
   "source": [
    "### Bonus Exercise 8: Count Words in a String\n",
    "\n",
    "Write pseudocode that counts the words in a given string and prints the result."
   ]
  },
  {
   "cell_type": "markdown",
   "metadata": {},
   "source": [
    "<!-- Add your pseudocode here -->"
   ]
  },
  {
   "cell_type": "code",
   "execution_count": 46,
   "metadata": {},
   "outputs": [],
   "source": [
    "# Add your code solution here"
   ]
  },
  {
   "cell_type": "markdown",
   "metadata": {},
   "source": [
    "### Bonus Exercise 9: Find Factorial of a Number\n",
    "\n",
    "Write pseudocode that calculates the factorial of a given positive integer."
   ]
  },
  {
   "cell_type": "markdown",
   "metadata": {},
   "source": [
    "<!-- Add your pseudocode here -->"
   ]
  },
  {
   "cell_type": "code",
   "execution_count": null,
   "metadata": {},
   "outputs": [],
   "source": [
    "# Add your code solution here"
   ]
  },
  {
   "cell_type": "markdown",
   "metadata": {},
   "source": [
    "### Bonus Exercise 10: FizzBuzz Problem\n",
    "\n",
    "Write pseudocode for the FizzBuzz problem where you print numbers from 1 to N but replace multiples of three with \"Fizz\" and multiples of five with \"Buzz\"."
   ]
  },
  {
   "cell_type": "markdown",
   "metadata": {},
   "source": [
    "<!-- Add your pseudocode here -->"
   ]
  },
  {
   "cell_type": "code",
   "execution_count": 48,
   "metadata": {},
   "outputs": [],
   "source": [
    "# Add your code solution here"
   ]
  }
 ],
 "metadata": {
  "kernelspec": {
   "display_name": "base",
   "language": "python",
   "name": "python3"
  },
  "language_info": {
   "codemirror_mode": {
    "name": "ipython",
    "version": 3
   },
   "file_extension": ".py",
   "mimetype": "text/x-python",
   "name": "python",
   "nbconvert_exporter": "python",
   "pygments_lexer": "ipython3",
   "version": "3.12.3"
  }
 },
 "nbformat": 4,
 "nbformat_minor": 2
}
